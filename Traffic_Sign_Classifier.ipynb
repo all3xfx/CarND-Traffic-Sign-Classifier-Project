{
 "cells": [
  {
   "cell_type": "markdown",
   "metadata": {},
   "source": [
    "# Self-Driving Car Engineer Nanodegree\n",
    "\n",
    "## Deep Learning\n",
    "\n",
    "## Project: Build a Traffic Sign Recognition Classifier\n",
    "\n",
    "In this notebook, a template is provided for you to implement your functionality in stages which is required to successfully complete this project. If additional code is required that cannot be included in the notebook, be sure that the Python code is successfully imported and included in your submission, if necessary. Sections that begin with **'Implementation'** in the header indicate where you should begin your implementation for your project. Note that some sections of implementation are optional, and will be marked with **'Optional'** in the header.\n",
    "\n",
    "In addition to implementing code, there will be questions that you must answer which relate to the project and your implementation. Each section where you will answer a question is preceded by a **'Question'** header. Carefully read each question and provide thorough answers in the following text boxes that begin with **'Answer:'**. Your project submission will be evaluated based on your answers to each of the questions and the implementation you provide.\n",
    "\n",
    ">**Note:** Code and Markdown cells can be executed using the **Shift + Enter** keyboard shortcut. In addition, Markdown cells can be edited by typically double-clicking the cell to enter edit mode."
   ]
  },
  {
   "cell_type": "markdown",
   "metadata": {},
   "source": [
    "---\n",
    "## Step 0: Load The Data"
   ]
  },
  {
   "cell_type": "code",
   "execution_count": null,
   "metadata": {
    "collapsed": false
   },
   "outputs": [],
   "source": [
    "# Load pickled data\n",
    "import pickle\n",
    "\n",
    "# TODO: Fill this in based on where you saved the training and testing data\n",
    "\n",
    "training_file = \"data/train.p\"\n",
    "testing_file = \"data/test.p\"\n",
    "\n",
    "with open(training_file, mode='rb') as f:\n",
    "    train = pickle.load(f)\n",
    "with open(testing_file, mode='rb') as f:\n",
    "    test = pickle.load(f)\n",
    "    \n",
    "X_train_input, y_train_input = train['features'], train['labels']\n",
    "X_test_input, y_test_input = test['features'], test['labels']"
   ]
  },
  {
   "cell_type": "markdown",
   "metadata": {},
   "source": [
    "---\n",
    "\n",
    "## Step 1: Dataset Summary & Exploration\n",
    "\n",
    "The pickled data is a dictionary with 4 key/value pairs:\n",
    "\n",
    "- `'features'` is a 4D array containing raw pixel data of the traffic sign images, (num examples, width, height, channels).\n",
    "- `'labels'` is a 2D array containing the label/class id of the traffic sign. The file `signnames.csv` contains id -> name mappings for each id.\n",
    "- `'sizes'` is a list containing tuples, (width, height) representing the the original width and height the image.\n",
    "- `'coords'` is a list containing tuples, (x1, y1, x2, y2) representing coordinates of a bounding box around the sign in the image. **THESE COORDINATES ASSUME THE ORIGINAL IMAGE. THE PICKLED DATA CONTAINS RESIZED VERSIONS (32 by 32) OF THESE IMAGES**\n",
    "\n",
    "Complete the basic data summary below."
   ]
  },
  {
   "cell_type": "code",
   "execution_count": null,
   "metadata": {
    "collapsed": false
   },
   "outputs": [],
   "source": [
    "### Replace each question mark with the appropriate value.\n",
    "\n",
    "# TODO: Number of training examples\n",
    "n_train = len(X_train_input)\n",
    "\n",
    "# TODO: Number of testing examples.\n",
    "n_test = len(X_test_input)\n",
    "\n",
    "# TODO: What's the shape of an traffic sign image?\n",
    "image_shape = [32,32]\n",
    "\n",
    "# TODO: How many unique classes/labels there are in the dataset.\n",
    "n_classes = 43\n",
    "\n",
    "print(\"Number of training examples =\", n_train)\n",
    "print(\"Number of testing examples =\", n_test)\n",
    "print(\"Image data shape =\", image_shape)\n",
    "print(\"Number of classes =\", n_classes)"
   ]
  },
  {
   "cell_type": "markdown",
   "metadata": {},
   "source": [
    "Visualize the German Traffic Signs Dataset using the pickled file(s). This is open ended, suggestions include: plotting traffic sign images, plotting the count of each sign, etc.\n",
    "\n",
    "The [Matplotlib](http://matplotlib.org/) [examples](http://matplotlib.org/examples/index.html) and [gallery](http://matplotlib.org/gallery.html) pages are a great resource for doing visualizations in Python.\n",
    "\n",
    "**NOTE:** It's recommended you start with something simple first. If you wish to do more, come back to it after you've completed the rest of the sections."
   ]
  },
  {
   "cell_type": "code",
   "execution_count": null,
   "metadata": {
    "collapsed": false
   },
   "outputs": [],
   "source": [
    "### Data exploration visualization goes here.\n",
    "### Feel free to use as many code cells as needed.\n",
    "import matplotlib.pyplot as plt\n",
    "import random\n",
    "import csv\n",
    "import numpy as np\n",
    "# Visualizations will be shown in the notebook.\n",
    "%matplotlib inline\n",
    "\n",
    "def read_label_names(filename):\n",
    "    with open(filename, newline='', encoding=\"utf8\") as csvfile:\n",
    "        spamreader = csv.reader(csvfile)\n",
    "        vals = [x[1] for x in spamreader][1:]\n",
    "        return vals\n",
    "\n",
    "label_names = read_label_names('signnames.csv')\n",
    "\n",
    "def show_samples(n_samples, images, labels, randomize = False):\n",
    "    # Show a random sign with its label\n",
    "    for sample_n in range(n_samples):\n",
    "#         n = 1\n",
    "#         while y_train_input[n] != 21:\n",
    "        if randomize:\n",
    "            n = random.randint(0, len(images))\n",
    "        else:\n",
    "            n = sample_n\n",
    "        ax = plt.subplot(np.ceil(n_samples/3),3,sample_n+1)\n",
    "        ax.set_title(label_names[labels[n]], fontsize=10)\n",
    "        ax.imshow(images[n])\n",
    "        ax.set_yticklabels([])\n",
    "        ax.set_xticklabels([])\n",
    "    plt.tight_layout()\n",
    "    plt.show()\n",
    "    \n",
    "\n",
    "def print_train_labels_count():\n",
    "    histogram = np.histogram(y_train_input, bins=np.arange(43))\n",
    "    for i in range(len(histogram[0])):\n",
    "        print(\"%s: %d\" % (label_names[histogram[1][i]], histogram[0][i]))\n",
    "\n",
    "print_train_labels_count()\n",
    "show_samples(12, X_train_input, y_train_input, randomize = True)\n"
   ]
  },
  {
   "cell_type": "markdown",
   "metadata": {},
   "source": [
    "----\n",
    "\n",
    "## Step 2: Design and Test a Model Architecture\n",
    "\n",
    "Design and implement a deep learning model that learns to recognize traffic signs. Train and test your model on the [German Traffic Sign Dataset](http://benchmark.ini.rub.de/?section=gtsrb&subsection=dataset).\n",
    "\n",
    "There are various aspects to consider when thinking about this problem:\n",
    "\n",
    "- Neural network architecture\n",
    "- Play around preprocessing techniques (normalization, rgb to grayscale, etc)\n",
    "- Number of examples per label (some have more than others).\n",
    "- Generate fake data.\n",
    "\n",
    "Here is an example of a [published baseline model on this problem](http://yann.lecun.com/exdb/publis/pdf/sermanet-ijcnn-11.pdf). It's not required to be familiar with the approach used in the paper but, it's good practice to try to read papers like these.\n",
    "\n",
    "**NOTE:** The LeNet-5 implementation shown in the [classroom](https://classroom.udacity.com/nanodegrees/nd013/parts/fbf77062-5703-404e-b60c-95b78b2f3f9e/modules/6df7ae49-c61c-4bb2-a23e-6527e69209ec/lessons/601ae704-1035-4287-8b11-e2c2716217ad/concepts/d4aca031-508f-4e0b-b493-e7b706120f81) at the end of the CNN lesson is a solid starting point. You'll have to change the number of classes and possibly the preprocessing, but aside from that it's plug and play!"
   ]
  },
  {
   "cell_type": "markdown",
   "metadata": {},
   "source": [
    "### Implementation\n",
    "\n",
    "Use the code cell (or multiple code cells, if necessary) to implement the first step of your project. Once you have completed your implementation and are satisfied with the results, be sure to thoroughly answer the questions that follow."
   ]
  },
  {
   "cell_type": "code",
   "execution_count": null,
   "metadata": {
    "collapsed": false
   },
   "outputs": [],
   "source": [
    "# Normalize input data\n",
    "import numpy as np\n",
    "import cv2\n",
    "\n",
    "normalize = True\n",
    "sharpen = True\n",
    "equalize = False\n",
    "clahe = False\n",
    "\n",
    "# Nothing to do to the labels\n",
    "y_train = y_train_input\n",
    "y_test = y_test_input\n",
    "\n",
    "def equalize_histogram(img):\n",
    "    img_hist_equalized = cv2.cvtColor(img, cv2.COLOR_RGB2YCrCb)\n",
    "    channels = cv2.split(img_hist_equalized)\n",
    "    cv2.equalizeHist(channels[0], channels[0])\n",
    "    cv2.merge(channels,img_hist_equalized)\n",
    "    img_hist_equalized = cv2.cvtColor(img_hist_equalized, cv2.COLOR_YCrCb2RGB)\n",
    "    return img_hist_equalized\n",
    "    \n",
    "X_train = X_train_input\n",
    "X_test = X_test_input\n",
    "\n",
    "def preprocess_image(img):\n",
    "    if equalize:\n",
    "        img = equalize_histogram(img)\n",
    "    if clahe:\n",
    "        cl = cv2.createCLAHE(clipLimit=4.0, tileGridSize=(2,2))\n",
    "        img = cv2.cvtColor(img, cv2.COLOR_RGB2Lab);\n",
    "        channels = cv2.split(img)\n",
    "        # apply to the 'L' channel\n",
    "        channels[0] = cl.apply(channels[0])\n",
    "        img = cv2.merge(channels)\n",
    "        img = cv2.cvtColor(img, cv2.COLOR_Lab2RGB);\n",
    "    if normalize:\n",
    "        img = (img - [128])/128\n",
    "    if sharpen:\n",
    "        kernel = np.array([[-1,-1,-1], [-1,10,-1], [-1,-1,-1]])\n",
    "        img = cv2.filter2D(img, -1, kernel)\n",
    "    return img\n",
    "\n",
    "show_samples(12, X_test, y_test)\n",
    "\n",
    "X_train = np.array([preprocess_image(im) for im in X_train ])\n",
    "X_test =  np.array([preprocess_image(im) for im in X_test ])\n",
    "        \n",
    "show_samples(12, X_test, y_test)"
   ]
  },
  {
   "cell_type": "markdown",
   "metadata": {},
   "source": [
    "### Question 1 \n",
    "\n",
    "_Describe how you preprocessed the data. Why did you choose that technique?_"
   ]
  },
  {
   "cell_type": "markdown",
   "metadata": {},
   "source": [
    "**Answer:**"
   ]
  },
  {
   "cell_type": "code",
   "execution_count": null,
   "metadata": {
    "collapsed": false
   },
   "outputs": [],
   "source": [
    "### Generate data additional data (OPTIONAL!)\n",
    "### and split the data into training/validation/testing sets here.\n",
    "### Feel free to use as many code cells as needed.\n",
    "from sklearn.model_selection import train_test_split\n",
    "\n",
    "# Separate a part of the test set for validation/ Don't run twice!!!\n",
    "X_test, X_validation, y_test, y_validation = train_test_split(X_test, y_test, test_size=0.2)\n",
    "print(\"Test size:\", len(X_test), \" labels size:\", len(y_test) )\n",
    "print(\"Validation size:\", len(X_validation), \" labels size:\", len(y_validation) )"
   ]
  },
  {
   "cell_type": "markdown",
   "metadata": {},
   "source": [
    "### Question 2\n",
    "\n",
    "_Describe how you set up the training, validation and testing data for your model. **Optional**: If you generated additional data, how did you generate the data? Why did you generate the data? What are the differences in the new dataset (with generated data) from the original dataset?_"
   ]
  },
  {
   "cell_type": "markdown",
   "metadata": {},
   "source": [
    "**Answer:**"
   ]
  },
  {
   "cell_type": "code",
   "execution_count": null,
   "metadata": {
    "collapsed": false
   },
   "outputs": [],
   "source": [
    "### Define your architecture here.\n",
    "### Feel free to use as many code cells as needed.\n",
    "import tensorflow as tf\n",
    "from tensorflow.contrib.layers import flatten\n",
    "\n",
    "def LeNet(x, weights, biases, keep_prob, keep_prob_conv):    \n",
    "    # Hyperparameters\n",
    "    mu = 0\n",
    "    sigma = 0.1\n",
    "    \n",
    "    layer = 0\n",
    "    \n",
    "    conv1 = tf.nn.conv2d(x, weights[layer], [1,1,1,1], padding='SAME') + biases[layer]\n",
    "    activation_conv1 = tf.nn.relu(conv1)\n",
    "    layer += 1\n",
    "\n",
    "    conv2 = tf.nn.conv2d(activation_conv1, weights[layer], [1,1,1,1], padding='SAME') + biases[layer]\n",
    "    activation_conv2 =  tf.nn.relu(conv2)\n",
    "    layer += 1\n",
    "        \n",
    "    conv3 = tf.nn.conv2d(activation_conv2, weights[layer], [1,1,1,1], padding='SAME') + biases[layer]\n",
    "    activation_conv3 =  tf.nn.relu(conv3)\n",
    "    layer += 1\n",
    "\n",
    "    conv4 = tf.nn.conv2d(activation_conv3, weights[layer], [1,1,1,1], padding='SAME') + biases[layer]\n",
    "    activation_conv4 =  tf.nn.relu(conv4)\n",
    "    layer += 1\n",
    "    \n",
    "    conv5 = tf.nn.conv2d(activation_conv4, weights[layer], [1,1,1,1], padding='SAME') + biases[layer]\n",
    "    activation_conv5 =  tf.nn.relu(conv5)\n",
    "    layer += 1\n",
    "\n",
    "    conv6 = tf.nn.conv2d(activation_conv5, weights[layer], [1,1,1,1], padding='SAME') + biases[layer]\n",
    "    activation_conv6 =  tf.nn.relu(conv6)\n",
    "    layer += 1\n",
    "    \n",
    "    conv7 = tf.nn.conv2d(activation_conv6, weights[layer], [1,1,1,1], padding='SAME') + biases[layer]\n",
    "    activation_conv7 =  tf.nn.relu(conv7)\n",
    "    layer += 1\n",
    "    \n",
    "    print(activation_conv7.get_shape())\n",
    "    pool1 = tf.nn.max_pool(activation_conv7, [1, 2,2, 1], [1,2,2,1], padding='VALID')\n",
    "    print(pool1.get_shape())\n",
    "    \n",
    "    conv8 = tf.nn.conv2d(pool1, weights[layer], [1,1,1,1], padding='SAME') + biases[layer]\n",
    "    activation_conv8 =  tf.nn.relu(conv8)\n",
    "    layer += 1\n",
    "\n",
    "    conv9 = tf.nn.conv2d(activation_conv8, weights[layer], [1,1,1,1], padding='SAME') + biases[layer]\n",
    "    activation_conv9 =  tf.nn.relu(conv9)\n",
    "    layer += 1\n",
    "    \n",
    "    conv10 = tf.nn.conv2d(activation_conv9, weights[layer], [1,1,1,1], padding='SAME') + biases[layer]\n",
    "    activation_conv10 =  tf.nn.relu(conv10)\n",
    "    layer += 1\n",
    "    \n",
    "    print(activation_conv10.get_shape())\n",
    "    pool2 = tf.nn.max_pool(activation_conv10, [1, 2,2, 1], [1,2,2,1], padding='VALID')\n",
    "    print(pool2.get_shape())\n",
    "    \n",
    "    flat = flatten(pool2)\n",
    "    fc1 = tf.matmul(flat, weights[layer]) + biases[layer]\n",
    "    activation_fc1 = tf.nn.dropout(tf.nn.relu(fc1), keep_prob)\n",
    "    layer += 1\n",
    "    \n",
    "    fc2 = tf.matmul(activation_fc1, weights[layer]) + biases[layer]\n",
    "    activation_fc2 = tf.nn.dropout(tf.nn.relu(fc2), keep_prob)\n",
    "    layer += 1\n",
    "    \n",
    "    logits = tf.matmul(activation_fc2, weights[layer]) + biases[layer]\n",
    "    \n",
    "    return logits"
   ]
  },
  {
   "cell_type": "code",
   "execution_count": null,
   "metadata": {
    "collapsed": false
   },
   "outputs": [],
   "source": [
    "#Training pipeline\n",
    "rate = 0.001\n",
    "# Hyperparameters\n",
    "mu = 0\n",
    "sigma = 0.1\n",
    "EPOCHS = 20\n",
    "BATCH_SIZE = 100\n",
    "beta = 0.01\n",
    "\n",
    "x = tf.placeholder(tf.float32, (None, 32, 32, 3))\n",
    "y = tf.placeholder(tf.int32, (None))\n",
    "keep_prob = tf.placeholder(tf.float32)\n",
    "keep_prob_conv = tf.placeholder(tf.float32)\n",
    "\n",
    "weights = [\n",
    "    tf.Variable(tf.truncated_normal((3,3,3,32), mean = mu, stddev = sigma)),\n",
    "    tf.Variable(tf.truncated_normal((3,3,32,32), mean = mu, stddev = sigma)),\n",
    "    tf.Variable(tf.truncated_normal((3,3,32,32), mean = mu, stddev = sigma)),\n",
    "    tf.Variable(tf.truncated_normal((3,3,32,32), mean = mu, stddev = sigma)),\n",
    "    tf.Variable(tf.truncated_normal((3,3,32,32), mean = mu, stddev = sigma)),\n",
    "    tf.Variable(tf.truncated_normal((3,3,32,32), mean = mu, stddev = sigma)),\n",
    "    tf.Variable(tf.truncated_normal((3,3,32,32), mean = mu, stddev = sigma)),\n",
    "    tf.Variable(tf.truncated_normal((3,3,32,64), mean = mu, stddev = sigma)),\n",
    "    tf.Variable(tf.truncated_normal((3,3,64,64), mean = mu, stddev = sigma)),\n",
    "    tf.Variable(tf.truncated_normal((3,3,64,64), mean = mu, stddev = sigma)),\n",
    "    tf.Variable(tf.truncated_normal((4096, 120), mean = mu, stddev = sigma)),\n",
    "    tf.Variable(tf.truncated_normal((120, 84), mean = mu, stddev = sigma)),\n",
    "    tf.Variable(tf.truncated_normal((84, n_classes), mean = mu, stddev = sigma))\n",
    "]\n",
    "biases = [\n",
    "    tf.Variable(tf.zeros(32)),\n",
    "    tf.Variable(tf.zeros(32)),\n",
    "    tf.Variable(tf.zeros(32)),\n",
    "    tf.Variable(tf.zeros(32)),\n",
    "    tf.Variable(tf.zeros(32)),\n",
    "    tf.Variable(tf.zeros(32)),\n",
    "    tf.Variable(tf.zeros(32)),\n",
    "    tf.Variable(tf.zeros(64)),\n",
    "    tf.Variable(tf.zeros(64)),\n",
    "    tf.Variable(tf.zeros(64)),\n",
    "    tf.Variable(tf.zeros(120)),\n",
    "    tf.Variable(tf.zeros(84)),\n",
    "    tf.Variable(tf.zeros(n_classes))\n",
    "]\n",
    "\n",
    "one_hot_y = tf.one_hot(y, n_classes)\n",
    "\n",
    "logits = LeNet(x, weights, biases, keep_prob, keep_prob_conv)\n",
    "\n",
    "cross_entropy = tf.nn.softmax_cross_entropy_with_logits(logits, one_hot_y)\n",
    "loss_operation = tf.reduce_mean(cross_entropy)\n",
    "\n",
    "regularizer = tf.reduce_sum([tf.nn.l2_loss(w) for w in weights])\n",
    "loss = tf.reduce_mean(loss_operation + beta * regularizer)\n",
    "  \n",
    "optimizer = tf.train.AdamOptimizer(learning_rate = rate)\n",
    "training_operation = optimizer.minimize(loss_operation)"
   ]
  },
  {
   "cell_type": "code",
   "execution_count": null,
   "metadata": {
    "collapsed": false
   },
   "outputs": [],
   "source": [
    "# Accuracy evaluation\n",
    "correct_prediction = tf.equal(tf.argmax(logits, 1), tf.argmax(one_hot_y, 1))\n",
    "accuracy_operation = tf.reduce_mean(tf.cast(correct_prediction, tf.float32))\n",
    "saver = tf.train.Saver()\n",
    "\n",
    "def evaluate(X_data, y_data):\n",
    "    num_examples = len(X_data)\n",
    "    total_accuracy = 0\n",
    "    sess = tf.get_default_session()\n",
    "    for offset in range(0, num_examples, BATCH_SIZE):\n",
    "        batch_x, batch_y = X_data[offset:offset+BATCH_SIZE], y_data[offset:offset+BATCH_SIZE]\n",
    "        accuracy = sess.run(accuracy_operation, feed_dict={x: batch_x, y: batch_y, keep_prob: 1.0, keep_prob_conv: 1.0})\n",
    "        total_accuracy += (accuracy * len(batch_x))\n",
    "    return total_accuracy / num_examples"
   ]
  },
  {
   "cell_type": "markdown",
   "metadata": {},
   "source": [
    "### Question 3\n",
    "\n",
    "_What does your final architecture look like? (Type of model, layers, sizes, connectivity, etc.)  For reference on how to build a deep neural network using TensorFlow, see [Deep Neural Network in TensorFlow\n",
    "](https://classroom.udacity.com/nanodegrees/nd013/parts/fbf77062-5703-404e-b60c-95b78b2f3f9e/modules/6df7ae49-c61c-4bb2-a23e-6527e69209ec/lessons/b516a270-8600-4f93-a0a3-20dfeabe5da6/concepts/83a3a2a2-a9bd-4b7b-95b0-eb924ab14432) from the classroom._\n"
   ]
  },
  {
   "cell_type": "markdown",
   "metadata": {},
   "source": [
    "**Answer:**"
   ]
  },
  {
   "cell_type": "code",
   "execution_count": null,
   "metadata": {
    "collapsed": false,
    "scrolled": false
   },
   "outputs": [],
   "source": [
    "from sklearn.utils import shuffle\n",
    "\n",
    "with tf.Session() as sess:\n",
    "    sess.run(tf.global_variables_initializer())\n",
    "    num_examples = len(X_train)\n",
    "    \n",
    "    print(\"Training...\")\n",
    "    print()\n",
    "    valid_losses = []\n",
    "    train_losses = []\n",
    "    train_accuracies = []\n",
    "    valid_accuracies = []\n",
    "    for i in range(EPOCHS):\n",
    "        X_train, y_train = shuffle(X_train, y_train)\n",
    "        for offset in range(0, num_examples, BATCH_SIZE):\n",
    "            end = offset + BATCH_SIZE\n",
    "            batch_x, batch_y = X_train[offset:end], y_train[offset:end]\n",
    "            res = sess.run(training_operation, feed_dict={x: batch_x, y: batch_y, keep_prob: 0.5, keep_prob_conv: 0.8})\n",
    "        \n",
    "        #train_loss = sess.run(loss_operation, feed_dict={x: X_train, y: y_train, keep_prob: 1.0, keep_prob_conv: 1.0})\n",
    "        #valid_loss = sess.run(loss_operation, feed_dict={x: X_validation, y: y_validation, keep_prob: 1.0, keep_prob_conv: 1.0})\n",
    "        #valid_losses.append(valid_loss)\n",
    "        #train_losses.append(train_loss)\n",
    "\n",
    "        #training_accuracy = evaluate(X_train, y_train)\n",
    "        validation_accuracy = evaluate(X_validation, y_validation)\n",
    "        \n",
    "        #train_accuracies.append(training_accuracy)\n",
    "        #valid_accuracies.append(validation_accuracy)\n",
    "        print(\"EPOCH {} ...\".format(i+1))\n",
    "        print(\"Validation Accuracy = {:.3f}\".format(validation_accuracy))\n",
    "#         print(\"Test Accuracy = {:.3f}\".format(training_accuracy))\n",
    "#         print(\"Diff = {:.3f}\".format(training_accuracy - validation_accuracy))\n",
    "        print()\n",
    "        \n",
    "    plt.plot(valid_losses, label=\"validation\")\n",
    "#     plt.plot(train_losses, label=\"training\")\n",
    "    plt.legend()\n",
    "    plt.title(\"loss\")\n",
    "    plt.show()\n",
    "    \n",
    "#     plt.plot(train_accuracies, label=\"training\")\n",
    "    plt.plot(valid_accuracies, label=\"validation\")\n",
    "#     plt.legend(loc=4)\n",
    "#     plt.title(\"accuracy\")\n",
    "#     plt.show()\n",
    "    \n",
    "    saver.save(sess, 'lenet')\n",
    "    print(\"Model saved\")"
   ]
  },
  {
   "cell_type": "code",
   "execution_count": null,
   "metadata": {
    "collapsed": false
   },
   "outputs": [],
   "source": [
    "# Test accuracy\n",
    "with tf.Session() as sess:\n",
    "    saver.restore(sess, tf.train.latest_checkpoint('.'))\n",
    "\n",
    "    test_accuracy = evaluate(X_test, y_test)\n",
    "    print(\"Test Accuracy = {:.3f}\".format(test_accuracy))"
   ]
  },
  {
   "cell_type": "markdown",
   "metadata": {},
   "source": [
    "### Question 4\n",
    "\n",
    "_How did you train your model? (Type of optimizer, batch size, epochs, hyperparameters, etc.)_\n"
   ]
  },
  {
   "cell_type": "markdown",
   "metadata": {},
   "source": [
    "**Answer:**"
   ]
  },
  {
   "cell_type": "markdown",
   "metadata": {},
   "source": [
    "### Question 5\n",
    "\n",
    "\n",
    "_What approach did you take in coming up with a solution to this problem? It may have been a process of trial and error, in which case, outline the steps you took to get to the final solution and why you chose those steps. Perhaps your solution involved an already well known implementation or architecture. In this case, discuss why you think this is suitable for the current problem._"
   ]
  },
  {
   "cell_type": "markdown",
   "metadata": {},
   "source": [
    "**Answer:**"
   ]
  },
  {
   "cell_type": "markdown",
   "metadata": {},
   "source": [
    "---\n",
    "\n",
    "## Step 3: Test a Model on New Images\n",
    "\n",
    "Take several pictures of traffic signs that you find on the web or around you (at least five), and run them through your classifier on your computer to produce example results. The classifier might not recognize some local signs but it could prove interesting nonetheless.\n",
    "\n",
    "You may find `signnames.csv` useful as it contains mappings from the class id (integer) to the actual sign name."
   ]
  },
  {
   "cell_type": "markdown",
   "metadata": {},
   "source": [
    "### Implementation\n",
    "\n",
    "Use the code cell (or multiple code cells, if necessary) to implement the first step of your project. Once you have completed your implementation and are satisfied with the results, be sure to thoroughly answer the questions that follow."
   ]
  },
  {
   "cell_type": "code",
   "execution_count": null,
   "metadata": {
    "collapsed": false,
    "scrolled": false
   },
   "outputs": [],
   "source": [
    "### Load the images and plot them here.\n",
    "\n",
    "import csv\n",
    "import os\n",
    "import matplotlib.image as mpimg\n",
    "\n",
    "path = 'my_data/'\n",
    "def read_csv_file():\n",
    "    with open(path+'my_data.csv', newline='', encoding=\"utf8\") as csvfile:\n",
    "        spamreader = csv.reader(csvfile)\n",
    "        vals = [(x[0],x[1]) for x in spamreader]\n",
    "        return vals\n",
    "\n",
    "files_and_labels = read_csv_file()    \n",
    "files = [x for (x,y) in files_and_labels]\n",
    "\n",
    "extra_imgs_orig =  [cv2.imread(path+f)[:,:,::-1] for f in files]\n",
    "extra_img_count = len(extra_imgs_orig)\n",
    "\n",
    "X_extra = [preprocess_image(img) for img in extra_imgs_orig]\n",
    "y_extra  = [int(y) for (x,y) in files_and_labels]\n",
    "\n",
    "np.set_printoptions(precision=2)\n",
    "\n",
    "show_samples(6, extra_imgs_orig, y_extra, randomize = False)\n"
   ]
  },
  {
   "cell_type": "markdown",
   "metadata": {},
   "source": [
    "### Question 6\n",
    "\n",
    "_Choose five candidate images of traffic signs and provide them in the report. Are there any particular qualities of the image(s) that might make classification difficult? It could be helpful to plot the images in the notebook._\n",
    "\n"
   ]
  },
  {
   "cell_type": "markdown",
   "metadata": {},
   "source": [
    "**Answer:**  \n",
    "I chose some of my images intentionally difficult to solve, like the second image above, where the '30' in the max speed is the only uncovered part. This one proves really hard for the network to classify. For some tests it did find the right class, but the result wasn't very confident, which is expected because there are features in the image which are missing.  \n",
    "I also found the third image shown was hard for the network to classify, I think it is because the shape of the numbers is different to the ones in the training samples. It is often classified as an 80km/h max speed sign.\n",
    "I was surprised that the antenna reticullate in the background of the 'yield' sign isn't in general too much trouble, maybe because we're using color as a feature and the antenna is mostly just black against the sky in this image.  \n",
    "The 'turn right' sign is also interesting, because the network seems to confuse this sign with the 'keep right' sign often. Since the arrows shape is the same and some pictures might have a slight rotation, both classes have very similar features and get classified closely."
   ]
  },
  {
   "cell_type": "code",
   "execution_count": null,
   "metadata": {
    "collapsed": false
   },
   "outputs": [],
   "source": [
    "### Run the predictions here.\n",
    "### Feel free to use as many code cells as needed.\n",
    "np.set_printoptions(precision=2)\n",
    "\n",
    "import csv\n",
    "import os\n",
    "import matplotlib.image as mpimg\n",
    "\n",
    "# Define some operations\n",
    "predicted = tf.argmax(logits, 1)\n",
    "softmax_out = tf.nn.softmax(logits)\n",
    "\n",
    "correct = 0\n",
    "predictions = []\n",
    "with tf.Session() as sess:\n",
    "    saver.restore(sess, tf.train.latest_checkpoint('.'))\n",
    "    res = sess.run([softmax_out, predicted], feed_dict = {x: X_extra,keep_prob:1})\n",
    "    \n",
    "    for (prediction, processed_image, softmax_probs, label, j) in zip(res[1], X_extra, res[0], y_extra, range(extra_img_count)):\n",
    "        top_k = sess.run(tf.nn.top_k(softmax_probs, k=5))\n",
    "        \n",
    "        if prediction == label:\n",
    "            correct += 1\n",
    "            \n",
    "        predictions.append((prediction, label, top_k))\n",
    "        \n",
    "print(\"Accuracy = {:.3f}\".format(correct/extra_img_count))\n"
   ]
  },
  {
   "cell_type": "markdown",
   "metadata": {},
   "source": [
    "### Question 7\n",
    "\n",
    "_Is your model able to perform equally well on captured pictures when compared to testing on the dataset? The simplest way to do this check the accuracy of the predictions. For example, if the model predicted 1 out of 5 signs correctly, it's 20% accurate._\n",
    "\n",
    "_**NOTE:** You could check the accuracy manually by using `signnames.csv` (same directory). This file has a mapping from the class id (0-42) to the corresponding sign name. So, you could take the class id the model outputs, lookup the name in `signnames.csv` and see if it matches the sign from the image._\n"
   ]
  },
  {
   "cell_type": "markdown",
   "metadata": {},
   "source": [
    "**Answer:**"
   ]
  },
  {
   "cell_type": "code",
   "execution_count": null,
   "metadata": {
    "collapsed": false,
    "scrolled": false
   },
   "outputs": [],
   "source": [
    "### Visualize the softmax probabilities here.\n",
    "### Feel free to use as many code cells as needed.\n",
    "\n",
    "i=0\n",
    "f, axs = plt.subplots(3,3,figsize=(15,15))\n",
    "\n",
    "# TODO SHOW WHETHER THE PREDICTION IS BETWEEN THE TOP-5 / show labels\n",
    "for (prediction, label, top_l) in predictions:\n",
    "    ax = plt.subplot(np.ceil(len(predictions)/3),3, i + 1)\n",
    "    if prediction == label:\n",
    "        ax.set_title(\"Accurate prediction\", fontsize=10)\n",
    "    plt.bar(range(5), top_l[0], 1)\n",
    "    ax.set_yticklabels([])\n",
    "    ax.set_xticklabels([])\n",
    "    i += 1\n",
    "plt.tight_layout()\n",
    "plt.show()\n",
    "\n"
   ]
  },
  {
   "cell_type": "markdown",
   "metadata": {},
   "source": [
    "### Question 8\n",
    "\n",
    "*Use the model's softmax probabilities to visualize the **certainty** of its predictions, [`tf.nn.top_k`](https://www.tensorflow.org/versions/r0.12/api_docs/python/nn.html#top_k) could prove helpful here. Which predictions is the model certain of? Uncertain? If the model was incorrect in its initial prediction, does the correct prediction appear in the top k? (k should be 5 at most)*\n",
    "\n",
    "`tf.nn.top_k` will return the values and indices (class ids) of the top k predictions. So if k=3, for each sign, it'll return the 3 largest probabilities (out of a possible 43) and the correspoding class ids.\n",
    "\n",
    "Take this numpy array as an example:\n",
    "\n",
    "```\n",
    "# (5, 6) array\n",
    "a = np.array([[ 0.24879643,  0.07032244,  0.12641572,  0.34763842,  0.07893497,\n",
    "         0.12789202],\n",
    "       [ 0.28086119,  0.27569815,  0.08594638,  0.0178669 ,  0.18063401,\n",
    "         0.15899337],\n",
    "       [ 0.26076848,  0.23664738,  0.08020603,  0.07001922,  0.1134371 ,\n",
    "         0.23892179],\n",
    "       [ 0.11943333,  0.29198961,  0.02605103,  0.26234032,  0.1351348 ,\n",
    "         0.16505091],\n",
    "       [ 0.09561176,  0.34396535,  0.0643941 ,  0.16240774,  0.24206137,\n",
    "         0.09155967]])\n",
    "```\n",
    "\n",
    "Running it through `sess.run(tf.nn.top_k(tf.constant(a), k=3))` produces:\n",
    "\n",
    "```\n",
    "TopKV2(values=array([[ 0.34763842,  0.24879643,  0.12789202],\n",
    "       [ 0.28086119,  0.27569815,  0.18063401],\n",
    "       [ 0.26076848,  0.23892179,  0.23664738],\n",
    "       [ 0.29198961,  0.26234032,  0.16505091],\n",
    "       [ 0.34396535,  0.24206137,  0.16240774]]), indices=array([[3, 0, 5],\n",
    "       [0, 1, 4],\n",
    "       [0, 5, 1],\n",
    "       [1, 3, 5],\n",
    "       [1, 4, 3]], dtype=int32))\n",
    "```\n",
    "\n",
    "Looking just at the first row we get `[ 0.34763842,  0.24879643,  0.12789202]`, you can confirm these are the 3 largest probabilities in `a`. You'll also notice `[3, 0, 5]` are the corresponding indices."
   ]
  },
  {
   "cell_type": "markdown",
   "metadata": {},
   "source": [
    "**Answer:**"
   ]
  },
  {
   "cell_type": "markdown",
   "metadata": {},
   "source": [
    "> **Note**: Once you have completed all of the code implementations and successfully answered each question above, you may finalize your work by exporting the iPython Notebook as an HTML document. You can do this by using the menu above and navigating to  \\n\",\n",
    "    \"**File -> Download as -> HTML (.html)**. Include the finished document along with this notebook as your submission."
   ]
  },
  {
   "cell_type": "code",
   "execution_count": null,
   "metadata": {
    "collapsed": true
   },
   "outputs": [],
   "source": []
  }
 ],
 "metadata": {
  "anaconda-cloud": {},
  "kernelspec": {
   "display_name": "Python 3",
   "language": "python",
   "name": "python3"
  },
  "language_info": {
   "codemirror_mode": {
    "name": "ipython",
    "version": 3
   },
   "file_extension": ".py",
   "mimetype": "text/x-python",
   "name": "python",
   "nbconvert_exporter": "python",
   "pygments_lexer": "ipython3",
   "version": "3.5.2"
  }
 },
 "nbformat": 4,
 "nbformat_minor": 1
}
